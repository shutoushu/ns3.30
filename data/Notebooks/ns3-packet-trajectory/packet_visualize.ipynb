{
 "cells": [
  {
   "cell_type": "code",
   "execution_count": 5,
   "metadata": {},
   "outputs": [],
   "source": [
    "import pandas as pd\n",
    "import cv2\n",
    "import numpy as np\n",
    "import matplotlib.pyplot as plt\n",
    "#jupyter内で画像を表示\n",
    "%matplotlib inline \n",
    "#別ウィンドウで画像表示\n",
    "# %matplotlib qt \n",
    "import csv\n",
    "import json\n",
    "from ipywidgets import interact, interactive, fixed, RadioButtons\n",
    "import ipywidgets as widgets\n",
    "from IPython.display import display\n",
    "import pathlib\n",
    "seed = '10005'\n",
    "node_num = '300'\n",
    "shadow = 'shadow10_2'\n",
    "sigo_path = pathlib.Path('../../get_data/test/' + shadow + '/sigo/sigo-seed_' +seed +'nodenum_' +node_num+'.csv')\n",
    "lsgo_path = pathlib.Path('../../get_data/test/' + shadow + '/lsgo/lsgo-seed_' +seed +'nodenum_' +node_num+'.csv')\n",
    "# sigo_path = pathlib.Path('../../ns3.30/data/no_buildings/sigo/sigo-seed_' +seed +'nodenum_' +node_num+'.csv')\n",
    "# lsgo_path = pathlib.Path('../../ns3.30/data/no_buildings/lsgo/lsgo-seed_' +seed +'nodenum_' +node_num+'.csv')"
   ]
  },
  {
   "cell_type": "code",
   "execution_count": 6,
   "metadata": {},
   "outputs": [
    {
     "name": "stdout",
     "output_type": "stream",
     "text": [
      "Python 3.8.9\n"
     ]
    }
   ],
   "source": [
    "!python -V\n"
   ]
  },
  {
   "cell_type": "markdown",
   "metadata": {},
   "source": [
    "# csvファイルの取得\n",
    "pandasを利用：https://note.nkmk.me/python-pandas-value-counts/"
   ]
  },
  {
   "cell_type": "code",
   "execution_count": 7,
   "metadata": {},
   "outputs": [],
   "source": [
    "sigo_df = pd.read_csv(sigo_path)\n",
    "lsgo_df = pd.read_csv(lsgo_path)"
   ]
  },
  {
   "cell_type": "code",
   "execution_count": 8,
   "metadata": {},
   "outputs": [
    {
     "name": "stdout",
     "output_type": "stream",
     "text": [
      "..\\..\\get_data\\test\\shadow10_2\\sigo\\sigo-seed_10005nodenum_300.csv\n",
      "..\\..\\get_data\\test\\shadow10_2\\lsgo\\lsgo-seed_10005nodenum_300.csv\n"
     ]
    }
   ],
   "source": [
    "print(sigo_path)\n",
    "print(lsgo_path)"
   ]
  },
  {
   "cell_type": "markdown",
   "metadata": {},
   "source": [
    "# destination_idごとのパケット数"
   ]
  },
  {
   "cell_type": "code",
   "execution_count": 9,
   "metadata": {},
   "outputs": [
    {
     "data": {
      "text/plain": [
       "{69: 122,\n",
       " 140: 56,\n",
       " 87: 56,\n",
       " 296: 52,\n",
       " 217: 47,\n",
       " 142: 42,\n",
       " 37: 35,\n",
       " 250: 15,\n",
       " 6: 12,\n",
       " 9: 11}"
      ]
     },
     "execution_count": 9,
     "metadata": {},
     "output_type": "execute_result"
    }
   ],
   "source": [
    "lsgo_df['destination_id'].value_counts().to_dict()"
   ]
  },
  {
   "cell_type": "markdown",
   "metadata": {},
   "source": [
    "\n",
    "destination_id を重複なしにリスト保存"
   ]
  },
  {
   "cell_type": "code",
   "execution_count": 10,
   "metadata": {},
   "outputs": [
    {
     "data": {
      "text/plain": [
       "{69: 76,\n",
       " 296: 54,\n",
       " 87: 50,\n",
       " 142: 37,\n",
       " 250: 28,\n",
       " 217: 25,\n",
       " 37: 21,\n",
       " 140: 11,\n",
       " 9: 10,\n",
       " 6: 10}"
      ]
     },
     "execution_count": 10,
     "metadata": {},
     "output_type": "execute_result"
    }
   ],
   "source": [
    "sigo_df['destination_id'].value_counts().to_dict()"
   ]
  },
  {
   "cell_type": "code",
   "execution_count": 11,
   "metadata": {},
   "outputs": [
    {
     "data": {
      "text/plain": [
       "10"
      ]
     },
     "execution_count": 11,
     "metadata": {},
     "output_type": "execute_result"
    }
   ],
   "source": [
    "dest_list =lsgo_df['destination_id'].value_counts().index.tolist()\n",
    "dest_list.sort()\n",
    "len(dest_list)"
   ]
  },
  {
   "cell_type": "code",
   "execution_count": 12,
   "metadata": {},
   "outputs": [
    {
     "data": {
      "text/plain": [
       "10"
      ]
     },
     "execution_count": 12,
     "metadata": {},
     "output_type": "execute_result"
    }
   ],
   "source": [
    "dest_list = sigo_df['destination_id'].value_counts().index.tolist()\n",
    "dest_list.sort()\n",
    "len(dest_list)"
   ]
  },
  {
   "cell_type": "markdown",
   "metadata": {},
   "source": [
    "sigoとlsgoそれぞれ目的地に届いたidだけをlistに保存"
   ]
  },
  {
   "cell_type": "code",
   "execution_count": 13,
   "metadata": {},
   "outputs": [
    {
     "name": "stdout",
     "output_type": "stream",
     "text": [
      "sigo: [69, 87, 217, 296]\n",
      "lsgo: [37, 69, 87, 140, 217, 296]\n"
     ]
    }
   ],
   "source": [
    "sigo_reach_list = sigo_df[sigo_df['recv_id'] == sigo_df['destination_id']]['destination_id'].value_counts().index.tolist()\n",
    "lsgo_reach_list = lsgo_df[lsgo_df['recv_id'] == lsgo_df['destination_id']]['destination_id'].value_counts().index.tolist()\n",
    "sigo_reach_list.sort()\n",
    "lsgo_reach_list.sort()\n",
    "\n",
    "print('sigo:',sigo_reach_list)\n",
    "print('lsgo:',lsgo_reach_list)"
   ]
  },
  {
   "cell_type": "markdown",
   "metadata": {},
   "source": [
    "# 平均delayを返すメソッド"
   ]
  },
  {
   "cell_type": "code",
   "execution_count": 14,
   "metadata": {},
   "outputs": [],
   "source": [
    "def packet_delay(path, spefic=0): #spefic 0 or id   0の時平均を返す idのときそのdestination id のdelayを返す\n",
    "    delay_list = []\n",
    "    #csvファイルの取得\n",
    "    path_df = pd.read_csv(path)\n",
    "    #目的地に届いたidだけをlistに保存\n",
    "    reach_list = path_df[path_df['recv_id'] == path_df['destination_id']]['destination_id'].value_counts().index.tolist()\n",
    "    if(spefic == 0):\n",
    "        #reach_listを回す\n",
    "        for reach_id in reach_list:\n",
    "            source_time = path_df[path_df['destination_id'] == reach_id]['time']\n",
    "            recv_time = path_df[(path_df['destination_id'] == reach_id) & (path_df['destination_id'] == path_df['recv_id'])]['time']\n",
    "            delay = int(recv_time.head(1).iloc[-1]) - int(source_time.head(1).iloc[-1])\n",
    "            delay = delay / 100000\n",
    "        #         print('desID:', reach_id, 'delay:',delay)\n",
    "            delay_list.append(delay)\n",
    "        delay_mean = np.mean(delay_list)\n",
    "        return delay_mean\n",
    "    else:\n",
    "        source_time = path_df[path_df['destination_id'] == spefic]['time']\n",
    "        recv_time = path_df[(path_df['destination_id'] == spefic) & (path_df['destination_id'] == path_df['recv_id'])]['time']\n",
    "        delay = int(recv_time.head(1).iloc[-1]) - int(source_time.head(1).iloc[-1])\n",
    "        delay = delay / 100000\n",
    "        return delay"
   ]
  },
  {
   "cell_type": "code",
   "execution_count": 15,
   "metadata": {},
   "outputs": [
    {
     "data": {
      "text/plain": [
       "0.251835"
      ]
     },
     "execution_count": 15,
     "metadata": {},
     "output_type": "execute_result"
    }
   ],
   "source": [
    "packet_delay(sigo_path)"
   ]
  },
  {
   "cell_type": "code",
   "execution_count": 16,
   "metadata": {},
   "outputs": [
    {
     "data": {
      "text/plain": [
       "0.2441066666666667"
      ]
     },
     "execution_count": 16,
     "metadata": {},
     "output_type": "execute_result"
    }
   ],
   "source": [
    "packet_delay(lsgo_path)"
   ]
  },
  {
   "cell_type": "markdown",
   "metadata": {},
   "source": [
    "# 軌跡描画"
   ]
  },
  {
   "cell_type": "code",
   "execution_count": 17,
   "metadata": {},
   "outputs": [],
   "source": [
    "def draw_source_area(log, img_area):\n",
    "    cv2.rectangle(img_area, (log.source_x - 15, log.source_y - 15), (log.source_x + 15, log.source_y + 15), (255, 255, 0),thickness=8)\n",
    "    cv2.rectangle(img_area, (log.destination_x - 15, log.destination_y - 15), (log.destination_x + 15, log.destination_y + 15), (255, 255, 0),thickness=8)\n",
    "    #source nodeを視覚で囲む\n",
    "    cv2.rectangle(img_area, (log.source_x - 15, log.source_y - 15), (log.source_x + 15, log.source_y + 15), (255, 255, 0),thickness=8)\n",
    "\n",
    "    #方眼\n",
    "    plt.figure(figsize=(10, 10))\n",
    "    print('グラフサイズ')\n",
    "    plt.grid(color='w', linestyle='dotted', linewidth=1.0)\n",
    "    plt.xlim([0, 1000])\n",
    "    plt.xticks([1000,800,600,400,200, 0]) \n",
    "    plt.ylim([0, 1000])\n",
    "    plt.yticks([1000,800,600,400,200, 0])  #メモリの間隔を指定 \n",
    "    print('source_area 描画', log.source_x)\n",
    "\n",
    "# パケットの軌跡を描画\n",
    "def draw(log,count,img_area,protocol,text):\n",
    "    if protocol == 'sigo':\n",
    "        line_color = (0, 255, 0)\n",
    "        thick = 7\n",
    "        des_thick = 8\n",
    "    else:\n",
    "        line_color = (255, 0, 0)\n",
    "        thick = 2\n",
    "        des_thick = 2\n",
    "    \n",
    "    cv2.arrowedLine(img_area,(log.source_x, log.source_y), \n",
    "                            (log.recv_x, log.recv_y), line_color, thickness=thick, tipLength=0.1)\n",
    "    cv2.circle(img=img_area, center=(log.source_x,\n",
    "                           log.source_y), radius=5, color=(255,0,0), thickness=-1)\n",
    "    cv2.circle(img=img_area, center=(log.recv_x,\n",
    "                           log.recv_y), radius=5, color=(255,0,0), thickness=-1)\n",
    "    #受け取ったのが宛先だったならば\n",
    "    if log.recv_id == log.destination_id:\n",
    "        cv2.drawMarker(img_area, (log.recv_x, log.recv_y), line_color, thickness=des_thick, markerType=cv2.MARKER_TILTED_CROSS, markerSize=25)\n",
    "    if text == 'あり':    \n",
    "        cv2.putText(img_area, str(log.source_id), (log.source_x + 10,log.source_y +10 ), cv2.FONT_HERSHEY_SIMPLEX, 0.7, (255, 255, 255), thickness=2)\n",
    "        cv2.putText(img_area, str(log.recv_id), (log.recv_x + 10,log.recv_y +10 ), cv2.FONT_HERSHEY_SIMPLEX, 0.7, (255, 255, 255), thickness=2)"
   ]
  },
  {
   "cell_type": "code",
   "execution_count": 18,
   "metadata": {
    "scrolled": false
   },
   "outputs": [
    {
     "name": "stdout",
     "output_type": "stream",
     "text": [
      "sigo: [69, 87, 217, 296] PDR: 0.4\n",
      "lsgo: [37, 69, 87, 140, 217, 296] PDR: 0.6\n",
      "sigo delay: 0.251835\n",
      "lsgo delay: 0.2441066666666667\n"
     ]
    },
    {
     "data": {
      "application/vnd.jupyter.widget-view+json": {
       "model_id": "029aa9c760584d699e75d3269a041e22",
       "version_major": 2,
       "version_minor": 0
      },
      "text/plain": [
       "interactive(children=(Dropdown(description='protocol', options=('both', 'lsgo', 'sigo'), value='both'), Dropdo…"
      ]
     },
     "metadata": {},
     "output_type": "display_data"
    }
   ],
   "source": [
    "img_area = np.zeros(shape=(1000,1000, 3), dtype=np.int16)\n",
    "protocol_list = [\"both\",\"lsgo\", \"sigo\"]\n",
    "text_list = [\"なし\", \"あり\"]\n",
    "print('sigo:',sigo_reach_list,'PDR:',len(sigo_reach_list)/len(sigo_df['destination_id'].value_counts().index.tolist()))\n",
    "print('lsgo:',lsgo_reach_list,'PDR:',len(lsgo_reach_list)/len(lsgo_df['destination_id'].value_counts().index.tolist()))\n",
    "print('sigo delay:', packet_delay(sigo_path))\n",
    "print('lsgo delay:', packet_delay(lsgo_path))\n",
    "\n",
    "#packetの軌跡を描画 \n",
    "@interact(minHop=(0,19,1), maxHop=(1,21, 1), desId=dest_list, protocol = protocol_list, text = text_list)\n",
    "def packetDraw(protocol, desId, minHop=0, maxHop = 21, text = \"なし\"):\n",
    "    \n",
    "    img_area = np.zeros(shape=(2100,2100, 3), dtype=np.int16)\n",
    "    count = 1\n",
    "    if protocol == 'sigo':\n",
    "        \n",
    "#         print('sigo packet delay id', desId, 'delay', packet_delay(sigo_path, desId))\n",
    "        \n",
    "        for log in sigo_df[sigo_df['destination_id'] == desId].itertuples():\n",
    "            if count == 1:\n",
    "                draw_source_area(log, img_area)\n",
    "                count = count +1\n",
    "            if log.hopcount >= minHop and log.hopcount <= maxHop:\n",
    "                draw(log,count,img_area,protocol,text)\n",
    "#                 count = count +1\n",
    "                \n",
    "        plt.imshow(img_area)\n",
    "    elif protocol == 'lsgo':\n",
    "        \n",
    "#         print('lsgo packet delay id', desId, 'delay', packet_delay(lsgo_path, desId))\n",
    "        \n",
    "        for log in lsgo_df[lsgo_df['destination_id'] == desId].itertuples():\n",
    "            if count == 1:\n",
    "                draw_source_area(log, img_area)\n",
    "                count = count +1\n",
    "                \n",
    "            if log.hopcount >= minHop and log.hopcount <= maxHop:\n",
    "                draw(log,count,img_area,protocol,text)\n",
    "#                 count = count +1\n",
    "                \n",
    "        plt.imshow(img_area)\n",
    "    else:\n",
    "        \n",
    "        if(desId in sigo_reach_list):\n",
    "            print('sigo packet delay id', desId, 'delay', packet_delay(sigo_path, desId))\n",
    "        if(desId in lsgo_reach_list):\n",
    "            print('lsgo packet delay id', desId, 'delay', packet_delay(lsgo_path, desId))\n",
    "        \n",
    "        for log in sigo_df[sigo_df['destination_id'] == desId].itertuples():\n",
    "            if count == 1:\n",
    "                draw_source_area(log, img_area)\n",
    "                count = count +1\n",
    "                \n",
    "            if log.hopcount >= minHop and log.hopcount <= maxHop:\n",
    "                draw(log,count,img_area,'sigo',text)\n",
    "#                 count = count +1\n",
    "        for log in lsgo_df[lsgo_df['destination_id'] == desId].itertuples():\n",
    "            if log.hopcount >= minHop and log.hopcount <= maxHop:\n",
    "                draw(log,count,img_area,'lsgo',text)\n",
    "#                 count = count +1\n",
    "        plt.imshow(img_area)"
   ]
  },
  {
   "cell_type": "markdown",
   "metadata": {},
   "source": [
    "210 344"
   ]
  },
  {
   "cell_type": "code",
   "execution_count": 19,
   "metadata": {},
   "outputs": [],
   "source": [
    "def output_df(hopcount, des_id):\n",
    "    print('lsgo')\n",
    "    display(lsgo_df[(lsgo_df['hopcount'] == hopcount) & (lsgo_df['destination_id'] == des_id)])\n",
    "    print('sigo')\n",
    "    display(sigo_df[(sigo_df['hopcount'] == hopcount) & (sigo_df['destination_id'] == des_id)])"
   ]
  },
  {
   "cell_type": "code",
   "execution_count": 20,
   "metadata": {},
   "outputs": [
    {
     "data": {
      "application/vnd.jupyter.widget-view+json": {
       "model_id": "15218b3d2e9c44dd9bf364a5c5910b64",
       "version_major": 2,
       "version_minor": 0
      },
      "text/plain": [
       "interactive(children=(IntSlider(value=10, description='hopcount', max=21), Dropdown(description='des_id', opti…"
      ]
     },
     "metadata": {},
     "output_type": "display_data"
    }
   ],
   "source": [
    "@interact(hopcount=(0,21,1), des_id = dest_list)\n",
    "def df_run(hopcount, des_id):\n",
    "    output_df(hopcount, des_id)"
   ]
  },
  {
   "cell_type": "code",
   "execution_count": null,
   "metadata": {},
   "outputs": [],
   "source": []
  },
  {
   "cell_type": "code",
   "execution_count": null,
   "metadata": {},
   "outputs": [],
   "source": []
  }
 ],
 "metadata": {
  "kernelspec": {
   "display_name": "Python 3",
   "language": "python",
   "name": "python3"
  },
  "language_info": {
   "codemirror_mode": {
    "name": "ipython",
    "version": 3
   },
   "file_extension": ".py",
   "mimetype": "text/x-python",
   "name": "python",
   "nbconvert_exporter": "python",
   "pygments_lexer": "ipython3",
   "version": "3.8.5"
  }
 },
 "nbformat": 4,
 "nbformat_minor": 4
}
